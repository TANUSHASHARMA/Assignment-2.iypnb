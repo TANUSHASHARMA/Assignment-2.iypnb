{
 "cells": [
  {
   "cell_type": "code",
   "execution_count": 29,
   "id": "0fe12cc1-f253-487c-aecc-ab163b750ee0",
   "metadata": {},
   "outputs": [
    {
     "name": "stdout",
     "output_type": "stream",
     "text": [
      "Hello,Tanusha sharma!\n",
      "Hello,Anita sharma!\n",
      "Good morning, shreya gupta!\n",
      "Good night,stuti!\n"
     ]
    }
   ],
   "source": [
    "#Assignment2\n",
    "#basic function implementation \n",
    "def greet(name, greeting = \"Hello\"):\n",
    "    return f\"{greeting},{name}!\"\n",
    "print(greet(\"Tanusha sharma\"))\n",
    "print(greet (\"Anita sharma\"))\n",
    "print(greet(\" shreya gupta\",\"Good morning\"))\n",
    "print(greet(\"stuti\",\"Good night\"))\n",
    "\n",
    "\n",
    "\n"
   ]
  },
  {
   "cell_type": "code",
   "execution_count": 33,
   "id": "cca364b8-cf85-44d1-b08d-6dd5918d4b4d",
   "metadata": {},
   "outputs": [
    {
     "name": "stdin",
     "output_type": "stream",
     "text": [
      "name: Tanusha\n",
      "age: 21\n",
      "place: visakhaptnam\n"
     ]
    },
    {
     "name": "stdout",
     "output_type": "stream",
     "text": [
      "None\n",
      " Name : Tanusha,Age:21,City:Visakhapatnam\n"
     ]
    }
   ],
   "source": [
    "#named arguments \n",
    "def create_profile():\n",
    "    name= (input(\"name:\"))\n",
    "    age= (input(\"age:\"))\n",
    "    place=(input(\"place:\"))\n",
    "profile= create_profile()\n",
    "print(profile)\n",
    "def create_profile( name, age,city):\n",
    "    return f\" Name : {name},Age:{age},City:{city}\"\n",
    "# Example usage:\n",
    "profile = create_profile(name =\"Tanusha\", age= 21,city=\"Visakhapatnam\")\n",
    "print(profile)  \n"
   ]
  },
  {
   "cell_type": "code",
   "execution_count": 36,
   "id": "77fd5f9f-45f9-4ccd-84fa-3f446ce42e0c",
   "metadata": {},
   "outputs": [
    {
     "name": "stdout",
     "output_type": "stream",
     "text": [
      "Sum of numbers: 1115.15\n",
      "Keyword arguments: {'name': 'Tanusha sharma', 'age': 21}\n"
     ]
    }
   ],
   "source": [
    "def sum_numbers(*args, **kwargs):\n",
    "    # Calculate the sum of all positional arguments that are numbers\n",
    "    total_sum = sum(arg for arg in args if isinstance(arg, (int, float)))\n",
    "    \n",
    "    # Return a dictionary of all keyword arguments\n",
    "    return total_sum, kwargs\n",
    "\n",
    "# Example usage\n",
    "result_sum, result_kwargs = sum_numbers(45,78,987.65, 4.5, name='Tanusha sharma', age=21)\n",
    "print(\"Sum of numbers:\", result_sum)  # Output: Sum of numbers:111.15\n",
    "print(\"Keyword arguments:\", result_kwargs)  # Output: Keyword arguments: {'name': 'Tanusha', 'age': 21}\n"
   ]
  },
  {
   "cell_type": "code",
   "execution_count": 54,
   "id": "b7594d1a-dcb8-4924-8c2c-1c1c43676901",
   "metadata": {},
   "outputs": [
    {
     "name": "stdout",
     "output_type": "stream",
     "text": [
      "[49, 64, 81, 100, 121]\n"
     ]
    }
   ],
   "source": [
    "#finding the squares of the elements\n",
    "def square_elements(input_list):\n",
    "    # Use map and a lambda to square each element in the list\n",
    "    squared_list = list(map(lambda x: x ** 2, input_list))\n",
    "    return squared_list\n",
    "numbers = [7,8 ,9 ,10 ,11 ]\n",
    "#squaring the elements\n",
    "squared_numbers = square_elements(numbers)\n",
    "print(squared_numbers)\n"
   ]
  },
  {
   "cell_type": "code",
   "execution_count": 78,
   "id": "2c42134e-3fbb-40c0-91c6-7b3c17cfaeb4",
   "metadata": {},
   "outputs": [
    {
     "name": "stdout",
     "output_type": "stream",
     "text": [
      "[123, 45, 89, 67, 89, 43]\n"
     ]
    }
   ],
   "source": [
    "#filtering the odd numbers \n",
    "def filter_odd_numbers(numbers):\n",
    "    return list(filter(lambda x: x % 2 != 0, numbers))\n",
    "#filter is used to filter the elements\n",
    "numbers = [123, 45, 66, 89, 10, 36, 67, 89, 43]\n",
    "filtered_numbers = filter_odd_numbers(numbers)\n",
    "print(filtered_numbers)"
   ]
  },
  {
   "cell_type": "code",
   "execution_count": 77,
   "id": "415efb50-e9e3-4b59-a9d2-dd69e546e738",
   "metadata": {},
   "outputs": [
    {
     "name": "stdout",
     "output_type": "stream",
     "text": [
      "[6084, 25, 9, 256, 400]\n"
     ]
    }
   ],
   "source": [
    "#squaring the numbers taking list of numbers from user\n",
    "# Original list of numbers\n",
    "numbers = [78, 5, 3, 16, 20]\n",
    "\n",
    "# Using list comprehension to get the squares\n",
    "squares = [x**2 for x in numbers]\n",
    "\n",
    "# Printing the result\n",
    "print(squares)\n"
   ]
  },
  {
   "cell_type": "code",
   "execution_count": 81,
   "id": "6d26c873-8a78-4a07-b98a-0f6eb67d5f0b",
   "metadata": {},
   "outputs": [
    {
     "name": "stdout",
     "output_type": "stream",
     "text": [
      "[2, 4, 6, 8, 10, 12, 14, 16, 18, 20]\n"
     ]
    }
   ],
   "source": [
    "#listing even numbers between 1 to 20\n",
    "even_numbers=[x for x in range(1 ,21) if x%2==0]\n",
    "#pritning the elements\n",
    "print(even_numbers)\n"
   ]
  },
  {
   "cell_type": "code",
   "execution_count": 130,
   "id": "aa90b08f-0e8a-44c9-8c87-1935e1d0e1c8",
   "metadata": {},
   "outputs": [
    {
     "name": "stdout",
     "output_type": "stream",
     "text": [
      "Directory 'test_folder' is created.\n",
      "The execution is stopped for 3 seconds.\n",
      "The directory 'test_folder' is removed.\n"
     ]
    }
   ],
   "source": [
    "import os\n",
    "import time\n",
    "\n",
    "def file_operations():\n",
    "    dir_name = \"test_folder\"  # Define the directory name as a string\n",
    "    \n",
    "    try:\n",
    "        # Creating a directory named \"test_folder\"\n",
    "        os.makedirs(dir_name)\n",
    "        print(f\"Directory '{dir_name}' is created.\")\n",
    "        \n",
    "        # Pausing the execution for 3 seconds\n",
    "        time.sleep(3)\n",
    "        print(\"The execution is stopped for 3 seconds.\")\n",
    "        \n",
    "        # Deleting the directory using os.rmdir()\n",
    "        os.rmdir(dir_name)\n",
    "        print(f\"The directory '{dir_name}' is removed.\")\n",
    "        \n",
    "    except FileExistsError:\n",
    "        print(f\"Directory '{dir_name}' already exists.\")\n",
    "    except OSError as e:\n",
    "        print(f\"Error: {e}\")\n",
    "\n",
    "# Call the function to execute\n",
    "file_operations()\n"
   ]
  },
  {
   "cell_type": "code",
   "execution_count": 132,
   "id": "f04f9182-0239-4cf4-9172-2f1e300d818d",
   "metadata": {},
   "outputs": [
    {
     "name": "stdout",
     "output_type": "stream",
     "text": [
      "execution paused\n"
     ]
    }
   ],
   "source": [
    "#Writing a Python script that imports only sleep from the time module and renames it to pause. Use it to pause execution for 2 seconds and print \"Paused execution...\".\n",
    "from time import sleep as pause\n",
    "pause(2)\n",
    "print(\"execution paused\")"
   ]
  },
  {
   "cell_type": "code",
   "execution_count": 134,
   "id": "8eb1e8c3-3822-4b60-9c2b-3eb1f1ba4f3f",
   "metadata": {},
   "outputs": [
    {
     "name": "stdout",
     "output_type": "stream",
     "text": [
      "[56, 76, 98, 56, 90, 23, 90, 45, 9]\n"
     ]
    }
   ],
   "source": [
    "def flatten_list(*args):\n",
    "    \"\"\"Flatten a nested list of any depth.\"\"\"\n",
    "    flattened = []\n",
    "    \n",
    "    for item in args:\n",
    "        if isinstance(item, list):\n",
    "            # If the item is a list, recursively flatten it\n",
    "            flattened.extend(flatten_list(*item))\n",
    "        else:\n",
    "            # If the item is not a list, append it to the result\n",
    "            flattened.append(item)\n",
    "    \n",
    "    return flattened\n",
    "\n",
    "# Example usage:\n",
    "nested_list = [56, [76, 98, [56, 90]], 23, [90, [45]], 9]\n",
    "flattened_result = flatten_list(*nested_list)\n",
    "print(flattened_result)\n"
   ]
  },
  {
   "cell_type": "code",
   "execution_count": null,
   "id": "9f90be8d-dd99-4126-affd-63cd9e757fb3",
   "metadata": {},
   "outputs": [],
   "source": []
  }
 ],
 "metadata": {
  "kernelspec": {
   "display_name": "Python 3 (ipykernel)",
   "language": "python",
   "name": "python3"
  },
  "language_info": {
   "codemirror_mode": {
    "name": "ipython",
    "version": 3
   },
   "file_extension": ".py",
   "mimetype": "text/x-python",
   "name": "python",
   "nbconvert_exporter": "python",
   "pygments_lexer": "ipython3",
   "version": "3.13.0rc2"
  }
 },
 "nbformat": 4,
 "nbformat_minor": 5
}
